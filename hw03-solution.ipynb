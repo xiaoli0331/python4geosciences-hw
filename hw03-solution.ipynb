{
 "cells": [
  {
   "cell_type": "markdown",
   "metadata": {},
   "source": [
    "# Homework 3 - Xiao Li - 223009075"
   ]
  },
  {
   "cell_type": "markdown",
   "metadata": {},
   "source": [
    "# Question 1"
   ]
  },
  {
   "cell_type": "code",
   "execution_count": 102,
   "metadata": {
    "collapsed": false
   },
   "outputs": [
    {
     "data": {
      "text/plain": [
       "array([ 0.,  0.,  0.,  0.,  1.,  0.,  0.,  0.,  0.,  0.])"
      ]
     },
     "execution_count": 102,
     "metadata": {},
     "output_type": "execute_result"
    }
   ],
   "source": [
    "import numpy as np\n",
    "x=np.zeros(10)\n",
    "x[4]=1\n",
    "x"
   ]
  },
  {
   "cell_type": "markdown",
   "metadata": {},
   "source": [
    "# Question 2"
   ]
  },
  {
   "cell_type": "code",
   "execution_count": 103,
   "metadata": {
    "collapsed": false
   },
   "outputs": [
    {
     "data": {
      "text/plain": [
       "array([10, 11, 12, 13, 14, 15, 16, 17, 18, 19, 20, 21, 22, 23, 24, 25, 26,\n",
       "       27, 28, 29, 30, 31, 32, 33, 34, 35, 36, 37, 38, 39, 40, 41, 42, 43,\n",
       "       44, 45, 46, 47, 48, 49])"
      ]
     },
     "execution_count": 103,
     "metadata": {},
     "output_type": "execute_result"
    }
   ],
   "source": [
    "x = np.arange(10, 50)\n",
    "x"
   ]
  },
  {
   "cell_type": "markdown",
   "metadata": {},
   "source": [
    "# Question 3"
   ]
  },
  {
   "cell_type": "code",
   "execution_count": 104,
   "metadata": {
    "collapsed": false
   },
   "outputs": [
    {
     "name": "stdout",
     "output_type": "stream",
     "text": [
      "[5, 4, 3, 2, 1]\n",
      "[2, 3, 666, 2, 4]\n"
     ]
    }
   ],
   "source": [
    "def reverse(x):\n",
    "    rev_x=x[::-1]\n",
    "    return(rev_x)\n",
    "arr1=[1,2,3,4,5]\n",
    "arr2 =[4,2,666,3,2]\n",
    "print(reverse(arr1))\n",
    "print(reverse(arr2))"
   ]
  },
  {
   "cell_type": "markdown",
   "metadata": {},
   "source": [
    "# Quesiton 4"
   ]
  },
  {
   "cell_type": "code",
   "execution_count": 105,
   "metadata": {
    "collapsed": false
   },
   "outputs": [
    {
     "name": "stdout",
     "output_type": "stream",
     "text": [
      "[0 1 4]\n"
     ]
    }
   ],
   "source": [
    "def find_nonzero(x):\n",
    "    idx = np.nonzero(x)[0]\n",
    "    return(print(idx))\n",
    "x=[1,2,0,0,4,0]\n",
    "find_nonzero(x)"
   ]
  },
  {
   "cell_type": "markdown",
   "metadata": {},
   "source": [
    "# Question 5"
   ]
  },
  {
   "cell_type": "code",
   "execution_count": 108,
   "metadata": {
    "collapsed": false
   },
   "outputs": [
    {
     "data": {
      "text/plain": [
       "array([[[ 0.28922027, -0.23709449, -0.92345074],\n",
       "        [ 0.55355643, -1.97565386, -1.09949707],\n",
       "        [-0.00391783,  1.75769868, -0.39300736]],\n",
       "\n",
       "       [[-0.91700803,  0.18289528, -0.53573173],\n",
       "        [-0.2069522 ,  0.68751746,  0.11544765],\n",
       "        [-0.54259041, -0.92319727, -0.91848743]],\n",
       "\n",
       "       [[ 0.34203561,  0.29633535,  1.17162017],\n",
       "        [-0.36707241, -0.66794175, -0.97574241],\n",
       "        [-0.43340155, -1.58650458,  0.4337715 ]]])"
      ]
     },
     "execution_count": 108,
     "metadata": {},
     "output_type": "execute_result"
    }
   ],
   "source": [
    "x = np.random.normal(0, 1, (3,3,3))\n",
    "x"
   ]
  },
  {
   "cell_type": "markdown",
   "metadata": {},
   "source": [
    "# Question 6"
   ]
  },
  {
   "cell_type": "code",
   "execution_count": 113,
   "metadata": {
    "collapsed": false
   },
   "outputs": [
    {
     "name": "stdout",
     "output_type": "stream",
     "text": [
      "0.193096083328\n",
      "0.970459891626\n"
     ]
    },
    {
     "data": {
      "text/plain": [
       "array([[ 0.97602203,  0.44698469,  0.05307794,  0.18830533,  0.87265877,\n",
       "         0.64418488,  0.33557143,  0.04241705,  0.92984417,  0.83650382],\n",
       "       [ 0.7617921 ,  0.74821822,  0.19309608,  0.3924628 ,  0.62957083,\n",
       "         0.51199173,  0.63172645,  0.73315927,  0.69728937,  0.22841898],\n",
       "       [ 0.51685062,  0.39923262,  0.04000317,  0.05769262,  0.09791722,\n",
       "         0.56498204,  0.55679591,  0.34859701,  0.10222852,  0.8970077 ],\n",
       "       [ 0.45352712,  0.1916114 ,  0.74295342,  0.03180861,  0.70960906,\n",
       "         0.77651483,  0.79581296,  0.26350767,  0.43064171,  0.65112977],\n",
       "       [ 0.65608475,  0.7061047 ,  0.10400383,  0.97045989,  0.25232742,\n",
       "         0.0375676 ,  0.74216106,  0.52903173,  0.13365333,  0.00431724],\n",
       "       [ 0.67324008,  0.23047704,  0.51925736,  0.02913004,  0.0587948 ,\n",
       "         0.33513142,  0.47576862,  0.83840376,  0.87318177,  0.45350495],\n",
       "       [ 0.32786385,  0.03247753,  0.96102741,  0.6209739 ,  0.66996259,\n",
       "         0.16218927,  0.09529206,  0.6807494 ,  0.00196942,  0.89014584],\n",
       "       [ 0.10948538,  0.09298764,  0.56639126,  0.04648457,  0.67911673,\n",
       "         0.97810261,  0.71978739,  0.9376306 ,  0.80105383,  0.61327479],\n",
       "       [ 0.60325984,  0.38099114,  0.25549218,  0.71386535,  0.69555689,\n",
       "         0.96261553,  0.79416393,  0.4355544 ,  0.13865996,  0.57381634],\n",
       "       [ 0.17268253,  0.00623042,  0.46616675,  0.92045451,  0.86706019,\n",
       "         0.11164169,  0.19701411,  0.70704245,  0.74383525,  0.46247789]])"
      ]
     },
     "execution_count": 113,
     "metadata": {},
     "output_type": "execute_result"
    }
   ],
   "source": [
    "x = np.random.rand(10, 10)\n",
    "Sce_row=min(x[1,:])\n",
    "Fourth_column=max(x[:,3])\n",
    "print(Sce_row)\n",
    "print(Fourth_column)\n",
    "x"
   ]
  },
  {
   "cell_type": "markdown",
   "metadata": {},
   "source": [
    "# Question 7"
   ]
  },
  {
   "cell_type": "code",
   "execution_count": 120,
   "metadata": {
    "collapsed": false
   },
   "outputs": [
    {
     "name": "stdout",
     "output_type": "stream",
     "text": [
      "[ 0.09090909  0.18181818  0.27272727  0.36363636  0.45454545  0.54545455\n",
      "  0.63636364  0.72727273  0.81818182  0.90909091]\n"
     ]
    }
   ],
   "source": [
    "x = np.linspace(0,1,12,endpoint=True)[1:-1]\n",
    "print(x)"
   ]
  },
  {
   "cell_type": "markdown",
   "metadata": {},
   "source": [
    "# Question 8"
   ]
  },
  {
   "cell_type": "code",
   "execution_count": 123,
   "metadata": {
    "collapsed": false
   },
   "outputs": [
    {
     "data": {
      "text/plain": [
       "array([ 0.01744063,  0.09590425,  0.09819709,  0.16751988,  0.2365803 ,\n",
       "        0.5338225 ,  0.61393828,  0.70171571,  0.71551841,  0.97809443])"
      ]
     },
     "execution_count": 123,
     "metadata": {},
     "output_type": "execute_result"
    }
   ],
   "source": [
    "x = np.random.random(10)\n",
    "x.sort()\n",
    "x"
   ]
  },
  {
   "cell_type": "markdown",
   "metadata": {},
   "source": [
    "# Question 9"
   ]
  },
  {
   "cell_type": "code",
   "execution_count": 127,
   "metadata": {
    "collapsed": false
   },
   "outputs": [
    {
     "name": "stdout",
     "output_type": "stream",
     "text": [
      "True\n",
      "False\n",
      "False\n"
     ]
    }
   ],
   "source": [
    "def is_equal(A,B):\n",
    "    equal = np.array_equal(A, B)\n",
    "    return(print(equal))\n",
    "\n",
    "A = [1,2,4]\n",
    "B = [1,2,4]\n",
    "C = [1,2,4,7]\n",
    "D = [1,3,4]\n",
    "is_equal(A,B)\n",
    "is_equal(A,C)\n",
    "is_equal(A,D)\n"
   ]
  },
  {
   "cell_type": "markdown",
   "metadata": {},
   "source": [
    "# Question 10"
   ]
  },
  {
   "cell_type": "code",
   "execution_count": 132,
   "metadata": {
    "collapsed": false
   },
   "outputs": [
    {
     "name": "stdout",
     "output_type": "stream",
     "text": [
      "[[ 1.  2.  3.]\n",
      " [ 4.  5.  6.]\n",
      " [ 7.  8.  9.]]\n"
     ]
    },
    {
     "data": {
      "text/plain": [
       "array([[-1.,  0.,  1.],\n",
       "       [-1.,  0.,  1.],\n",
       "       [-1.,  0.,  1.]])"
      ]
     },
     "execution_count": 132,
     "metadata": {},
     "output_type": "execute_result"
    }
   ],
   "source": [
    "#creating a matrix\n",
    "arr = np.array([[1., 2., 3.,], [4., 5., 6.], [7., 8., 9.]])\n",
    "print(arr)\n",
    "#calculating the mean for each row, and substract it from the respective row\n",
    "arr - arr.mean(axis=1, keepdims=True) "
   ]
  },
  {
   "cell_type": "markdown",
   "metadata": {},
   "source": [
    "# Question 11"
   ]
  },
  {
   "cell_type": "code",
   "execution_count": 134,
   "metadata": {
    "collapsed": false
   },
   "outputs": [
    {
     "name": "stdout",
     "output_type": "stream",
     "text": [
      "[[[ 0.31324229  0.2183401   0.061633  ]\n",
      "  [ 0.36649315  0.40496865  0.44136308]\n",
      "  [ 0.51483002  0.68404362  0.6719523 ]\n",
      "  [ 0.94554866  0.70914677  0.44593275]\n",
      "  [ 0.68739523  0.32354533  0.95275618]]\n",
      "\n",
      " [[ 0.24295583  0.85960035  0.43377227]\n",
      "  [ 0.43988376  0.59397127  0.44359474]\n",
      "  [ 0.10754586  0.18150672  0.01004727]\n",
      "  [ 0.20547085  0.46637254  0.11872118]\n",
      "  [ 0.36666243  0.59268864  0.073608  ]]\n",
      "\n",
      " [[ 0.52271992  0.03617295  0.30074729]\n",
      "  [ 0.38076435  0.06485617  0.36807802]\n",
      "  [ 0.56666779  0.43398109  0.31593644]\n",
      "  [ 0.41873723  0.60013966  0.05835889]\n",
      "  [ 0.13681171  0.28646879  0.21172086]]\n",
      "\n",
      " [[ 0.06695894  0.49864777  0.30558432]\n",
      "  [ 0.06750677  0.68672267  0.16791948]\n",
      "  [ 0.16812833  0.13397464  0.23509669]\n",
      "  [ 0.53854417  0.75751233  0.22750512]\n",
      "  [ 0.23057166  0.20404742  0.2442804 ]]\n",
      "\n",
      " [[ 0.41329043  0.10226578  0.51199335]\n",
      "  [ 0.50672743  0.77552378  0.62630443]\n",
      "  [ 0.45117434  0.43550699  0.35566174]\n",
      "  [ 0.01519561  0.02055431  0.01088747]\n",
      "  [ 0.20268719  0.1888699   0.29753276]]]\n",
      "[[[ 0.17419675  0.00829346  0.58283891  0.84912841  0.08706784]\n",
      "  [ 0.09908106  0.11314242  0.06401605  0.15578835  0.00135545]\n",
      "  [ 0.53543942  0.40614809  0.47502311  0.70892736  0.11222137]\n",
      "  [ 0.41723143  0.54154268  0.28198587  0.80320251  0.2165501 ]\n",
      "  [ 0.0248616   0.07651549  0.7896212   0.0298926   0.24991482]]\n",
      "\n",
      " [[ 0.18489128  0.34900099  0.61233106  0.88814542  0.64844974]\n",
      "  [ 0.49076954  0.61717157  0.08708156  0.45310982  0.52513486]\n",
      "  [ 0.52003926  0.25732821  0.78545766  0.38587796  0.18178244]\n",
      "  [ 0.16192563  0.41116729  0.31733754  0.10188062  0.61890352]\n",
      "  [ 0.16130143  0.51924396  0.58499417  0.01957235  0.08119506]]\n",
      "\n",
      " [[ 0.08361252  0.16708852  0.37914585  0.29657143  0.50679329]\n",
      "  [ 0.72166611  0.55339146  0.14052117  0.23045056  0.03684795]\n",
      "  [ 0.11667708  0.13880327  0.07274125  0.06334572  0.45250889]\n",
      "  [ 0.14717823  0.43412156  0.14157919  0.69347582  0.47915152]\n",
      "  [ 0.46826624  0.41134813  0.52531722  0.00713407  0.1008215 ]]]\n"
     ]
    },
    {
     "data": {
      "text/plain": [
       "(5, 5, 1)"
      ]
     },
     "execution_count": 134,
     "metadata": {},
     "output_type": "execute_result"
    }
   ],
   "source": [
    "a = np.random.rand(5, 5, 3) \n",
    "b = np.random.rand(3, 5, 5) \n",
    "c = np.random.rand(5, 5)\n",
    "#change the shape of c to (5,5,1) so as to multiply it with a whose shape is(5,5,3)\n",
    "print(a*c[:,:,np.newaxis])\n",
    "print(b*c)\n"
   ]
  },
  {
   "cell_type": "markdown",
   "metadata": {},
   "source": [
    "# Question 12"
   ]
  },
  {
   "cell_type": "code",
   "execution_count": 135,
   "metadata": {
    "collapsed": false
   },
   "outputs": [
    {
     "data": {
      "text/plain": [
       "[[1, 2, 3, 4],\n",
       " [2, 3, 4, 5],\n",
       " [3, 4, 5, 6],\n",
       " [4, 5, 6, 7],\n",
       " [5, 6, 7, 8],\n",
       " [6, 7, 8, 9],\n",
       " [7, 8, 9, 10],\n",
       " [8, 9, 10, 11],\n",
       " [9, 10, 11, 12],\n",
       " [10, 11, 12, 13],\n",
       " [11, 12, 13, 14]]"
      ]
     },
     "execution_count": 135,
     "metadata": {},
     "output_type": "execute_result"
    }
   ],
   "source": [
    "Z = [1,2,3,4,5,6,7,8,9,10,11,12,13,14]\n",
    "R=[]\n",
    "for i in Z:\n",
    "    if i+3 > len(Z):\n",
    "        break\n",
    "    else:\n",
    "        R.append(Z[i-1:i+3])\n",
    "R"
   ]
  },
  {
   "cell_type": "markdown",
   "metadata": {},
   "source": [
    "# Question 13"
   ]
  },
  {
   "cell_type": "code",
   "execution_count": 140,
   "metadata": {
    "collapsed": false
   },
   "outputs": [
    {
     "data": {
      "text/plain": [
       "[[1.4142135623730951, 45.0],\n",
       " [2.8284271247461903, 45.0],\n",
       " [1.9999559995159892, 59.999272219172632],\n",
       " [1.9999559995159892, 30.000727780827372]]"
      ]
     },
     "execution_count": 140,
     "metadata": {},
     "output_type": "execute_result"
    }
   ],
   "source": [
    "#contracting a function to convert from Cartesian to polar coordinates\n",
    "def cart2polar(x,y):\n",
    "    rho = np.sqrt(x**2 + y**2)\n",
    "    phi = np.arctan2(y, x)* 180 / np.pi\n",
    "    return([rho, phi])\n",
    "#contracting a 4x2 array of Cartesian coordinates\n",
    "a = np.array([[1,1],[2,2],[1,1.732],[1.732,1]])\n",
    "x=[]\n",
    "for i in a:\n",
    "    #calculating the polar coordinates and store into an array with the same shape.\n",
    "    x.append(cart2polar(i[0],i[1]))\n",
    "x\n"
   ]
  },
  {
   "cell_type": "markdown",
   "metadata": {},
   "source": [
    "# Question 14"
   ]
  },
  {
   "cell_type": "code",
   "execution_count": 143,
   "metadata": {
    "collapsed": false
   },
   "outputs": [
    {
     "name": "stdout",
     "output_type": "stream",
     "text": [
      "Solution I takes 0.0002951622 seconds.\n",
      "Solution II takes 0.0017459393 seconds.\n",
      "Solution II takes 0.0014507771 seconds longer than Solution I.\n",
      "Solution II takes 5.9152 times longer than Solution I.\n"
     ]
    }
   ],
   "source": [
    "import time\n",
    "#start time of solution I\n",
    "time1_start=time.time()\n",
    "a = np.arange(1024.0).reshape(4, 8, 16, 2)  \n",
    "b = np.random.rand(4, 8, 16, 2)             \n",
    "sol = a * b \n",
    "#end time of solution I\n",
    "time1_end=time.time()\n",
    "\n",
    "#start time of solution II\n",
    "time2_start=time.time()\n",
    "#contructing an empty array with size(4*8*16*2)\n",
    "sol2=np.empty([4,8,16,2])\n",
    "for i in range (a.shape [0]): \n",
    "    for j in range (a.shape [1]): \n",
    "        for k in range (a.shape [2]): \n",
    "            for l in range (a.shape [3]): \n",
    "                 sol2[i, j, k, l]=a[i , j , k , l] * b [i , j, k, l]\n",
    "#end time of solution II\n",
    "time2_end=time.time()\n",
    "\n",
    "#calculating the time that solution I takes\n",
    "T1=time1_end-time1_start\n",
    "#calculating the time that solution II takes\n",
    "T2=time2_end-time2_start\n",
    "\n",
    "#testing if these two solution get the same result\n",
    "assert (sol==sol2).all()\n",
    "print('Solution I takes {:6.10f} seconds.'.format(T1))\n",
    "print('Solution II takes {:6.10f} seconds.'.format(T2))\n",
    "print('Solution II takes {:6.10f} seconds longer than Solution I.'.format(T2-T1))\n",
    "#keep two decimal places\n",
    "print('Solution II takes {:6.4f} times longer than Solution I.'.format(T2/T1))\n"
   ]
  },
  {
   "cell_type": "markdown",
   "metadata": {},
   "source": [
    "# Question 15"
   ]
  },
  {
   "cell_type": "code",
   "execution_count": 98,
   "metadata": {
    "collapsed": false
   },
   "outputs": [
    {
     "name": "stdout",
     "output_type": "stream",
     "text": [
      "[[ 2.25  2.25]\n",
      " [ 2.25  2.25]\n",
      " [ 3.    3.  ]]\n"
     ]
    }
   ],
   "source": [
    "def calculate(a, b):\n",
    "    \"\"\"\n",
    "    the code aa /= 4. has changed the original data of a\n",
    "    here the code a[:2, :]-=a[:2, :]/4 is calculate the  1/4 of the [:2,:] elements first, then\n",
    "    substract them from the elements themselves, then assign the values back to a\n",
    "    \"\"\"\n",
    "    a[:2, :]-=a[:2, :]/4\n",
    "    \n",
    "    \"\"\"\n",
    "    a and b are with different shape (3,2) and (3), the codea*b[:,np.newaxis] can change the \n",
    "    shape of b to (3,1) which allows b to be able to multiply with a.\n",
    "    \"\"\"\n",
    "    return a*b[:,np.newaxis]\n",
    "    \n",
    "\n",
    "a = np.ones((3, 2))\n",
    "b = np.ones(3)*3\n",
    "\n",
    "res = calculate(a, b)\n",
    "\n",
    "assert (res == np.array([[ 2.25,  2.25],[ 2.25,  2.25],[ 3., 3.]])).all()\n",
    "print(res)"
   ]
  },
  {
   "cell_type": "markdown",
   "metadata": {},
   "source": [
    "# Question 16"
   ]
  },
  {
   "cell_type": "code",
   "execution_count": 159,
   "metadata": {
    "collapsed": false,
    "scrolled": true
   },
   "outputs": [
    {
     "name": "stdout",
     "output_type": "stream",
     "text": [
      "[ -2.08397511  -1.96070053  -2.12119911 ...,  -9.56084447 -10.50707636\n",
      "  -8.83345912]\n",
      "[ 2.1580194   3.01921404  2.52794666 ...,  6.208885    5.5867116   5.1       ]\n"
     ]
    }
   ],
   "source": [
    "import math\n",
    "#contructing a funtion takes input(direction & speed)\n",
    "def u_v(vdir,vspd):\n",
    "    u=np.zeros(vdir.shape)\n",
    "    v=np.zeros(vspd.shape)\n",
    "    u=np.cos(vdir/180*np.pi)*vspd\n",
    "    v=np.sin(vdir/180*np.pi)*vspd\n",
    "    return u,v\n",
    "# read in data\n",
    "data = np.loadtxt('/Users/lixiao/python4geosciences/data/burl1h2010.txt', comments='#')\n",
    "# select two columns (direction &speed) as input for using function\n",
    "a=[]\n",
    "a=u_v(data[:,5],data[:,6])\n",
    "u=a[0]\n",
    "v=a[1]\n",
    "print(u)\n",
    "print(v)\n",
    "\n",
    "\n"
   ]
  },
  {
   "cell_type": "markdown",
   "metadata": {},
   "source": [
    "# Question 17"
   ]
  },
  {
   "cell_type": "code",
   "execution_count": 245,
   "metadata": {
    "collapsed": false
   },
   "outputs": [
    {
     "name": "stdout",
     "output_type": "stream",
     "text": [
      "m1002a\n",
      "[21.2128, 21.2149, 21.2177, 21.219, 21.2165, 21.2331, 21.3468, 21.4867, 21.526, 21.5914, 21.6244, 21.6219, 21.6295, 21.6204, 21.6003, 21.5912, 21.4888, 21.3504, 21.2779, 21.343, 21.4117, 21.4415, 21.441, 21.3959, 21.3208, 21.2352, 21.1793, 21.1591, 21.1479, 21.1501, 21.1435, 21.1413, 21.1385, 21.1377, 21.1369]\n"
     ]
    },
    {
     "data": {
      "text/plain": [
       "35.828874999999996"
      ]
     },
     "execution_count": 245,
     "metadata": {},
     "output_type": "execute_result"
    }
   ],
   "source": [
    "import glob\n",
    "#creating a class\n",
    "class dataclass(object):\n",
    "    \n",
    "    def __init__(self, name, salt, temp):\n",
    "        self.name = name\n",
    "        self.salt = salt\n",
    "        self.temp = temp\n",
    "    #calculate the mean of salt\n",
    "    def salt_mean(self):\n",
    "        return np.mean(self.salt)\n",
    "    #calculate the maximum of temp\n",
    "    def temp_max(self):\n",
    "        return max(self.temp)\n",
    "#creating a new list wind to store classes\n",
    "wind=[] \n",
    "#reading all files using loop\n",
    "for i in glob.glob(\"/Users/lixiao/python4geosciences/data/MCH/*.cnv2\"):\n",
    "    f = open(i)\n",
    "    a=f.readlines()\n",
    "    salt=[]\n",
    "    temp=[]\n",
    "    #reading the file name\n",
    "    name=i.split('/')[-1][:-5]\n",
    "    for line in a[57:]:\n",
    "        data = line.split()\n",
    "        if not data: continue\n",
    "        salt.append(float(data[5]))\n",
    "        temp.append(float(data[2]))\n",
    "    #organizing salt and temp as a class and add it into the lise wind\n",
    "    wind.append(dataclass(name,salt,temp))\n",
    "print(wind[2].name)\n",
    "print(wind[2].temp)\n",
    "wind[-1].salt_mean()\n",
    "\n"
   ]
  },
  {
   "cell_type": "markdown",
   "metadata": {},
   "source": [
    "# Question 18"
   ]
  },
  {
   "cell_type": "code",
   "execution_count": 243,
   "metadata": {
    "collapsed": false
   },
   "outputs": [
    {
     "data": {
      "text/plain": [
       "array([ 3.5,  4.5,  5.5,  6.5,  7.5,  7.5,  7.5,  7.5])"
      ]
     },
     "execution_count": 243,
     "metadata": {},
     "output_type": "execute_result"
    }
   ],
   "source": [
    "#Solution I: sliding window taking N elements from the right side of the point. \n",
    "#Then do the average. sum/(N+1) (point + N points)\n",
    "#For the last few elements(<N), will keep the average of last N+1 elements\n",
    "def Runningmean(x, N):\n",
    "    y = np.zeros((len(x),))\n",
    "    for i in range(len(x)):\n",
    "        if N==0:\n",
    "            return x\n",
    "        if N>len(x):\n",
    "            print (\"The window size exceeds the data size\")\n",
    "            break\n",
    "        if i+N < len(x):\n",
    "            y[i] = np.sum(x[i:(i+N+1)])\n",
    "        #the value of last N elements equal to their average value\n",
    "        else:\n",
    "            y[i] = np.sum(x[-(N+1):])\n",
    "    return y/(N+1)\n",
    "x=[2,3,4,5,6,7,8,9]\n",
    "Runningmean(x,3)"
   ]
  },
  {
   "cell_type": "code",
   "execution_count": 244,
   "metadata": {
    "collapsed": false
   },
   "outputs": [
    {
     "data": {
      "text/plain": [
       "array([ 3.5,  4. ,  4.5,  5. ,  6. ,  6.5,  7. ,  7.5])"
      ]
     },
     "execution_count": 244,
     "metadata": {},
     "output_type": "execute_result"
    }
   ],
   "source": [
    "#Solution II: sliding window taking N elements from both sides. \n",
    "#Then do the average sum/(2N+1) (N points from 2 sides + point)\n",
    "#For the first few elements. We will take all the left elements(<N) and take N elements from\n",
    "#the right side, Then calculate the average for them.\n",
    "#For the last few elemets. We will take all the right elemets(<N) and take N elements from\n",
    "#the left side, Then calculate the average for them.\n",
    "def Runningmean(x, N):\n",
    "    y = np.zeros((len(x),))\n",
    "    for i in range(len(x)):\n",
    "        if N==0:\n",
    "            return x\n",
    "        if N>len(x):\n",
    "            print (\"The window size exceeds the data size\")\n",
    "            break\n",
    "        if i-N<0:\n",
    "            y[i] = (np.sum(x[:i])+ np.sum(x[i:(i+N+1)]))/(i+N+1)\n",
    "        elif i+N < len(x):\n",
    "            y[i] = (np.sum(x[i:(i+N+1)])+ np.sum(x[(i-N):i]))/(2*N+1)\n",
    "        elif i+N >=len(x):\n",
    "            y[i] = (np.sum(x[i:])+ np.sum(x[(i-N):i]))/(len(x)-i+N)\n",
    "    return y\n",
    "x=[2,3,4,5,6,7,8,9]\n",
    "Runningmean(x,3)"
   ]
  },
  {
   "cell_type": "code",
   "execution_count": null,
   "metadata": {
    "collapsed": true
   },
   "outputs": [],
   "source": []
  }
 ],
 "metadata": {
  "kernelspec": {
   "display_name": "Python 3",
   "language": "python",
   "name": "python3"
  },
  "language_info": {
   "codemirror_mode": {
    "name": "ipython",
    "version": 3
   },
   "file_extension": ".py",
   "mimetype": "text/x-python",
   "name": "python",
   "nbconvert_exporter": "python",
   "pygments_lexer": "ipython3",
   "version": "3.5.1"
  }
 },
 "nbformat": 4,
 "nbformat_minor": 0
}
